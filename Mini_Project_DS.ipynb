{
  "nbformat": 4,
  "nbformat_minor": 0,
  "metadata": {
    "colab": {
      "name": "Mini Project DS.ipynb",
      "provenance": [],
      "collapsed_sections": [],
      "authorship_tag": "ABX9TyNYNY37ylTUjFtoq8iyTR7c",
      "include_colab_link": true
    },
    "kernelspec": {
      "name": "python3",
      "display_name": "Python 3"
    },
    "language_info": {
      "name": "python"
    }
  },
  "cells": [
    {
      "cell_type": "markdown",
      "metadata": {
        "id": "view-in-github",
        "colab_type": "text"
      },
      "source": [
        "<a href=\"https://colab.research.google.com/github/meghnalaha/Mini-Project/blob/main/Mini_Project_DS.ipynb\" target=\"_parent\"><img src=\"https://colab.research.google.com/assets/colab-badge.svg\" alt=\"Open In Colab\"/></a>"
      ]
    },
    {
      "cell_type": "code",
      "metadata": {
        "id": "ntq-PoHHbw86",
        "colab": {
          "base_uri": "https://localhost:8080/"
        },
        "outputId": "f0b378b0-3620-4753-a696-84caf40bba27"
      },
      "source": [
        "! pip install ipython-autotime\n",
        "%load_ext autotime"
      ],
      "execution_count": null,
      "outputs": [
        {
          "output_type": "stream",
          "text": [
            "Collecting ipython-autotime\n",
            "  Downloading https://files.pythonhosted.org/packages/b4/c9/b413a24f759641bc27ef98c144b590023c8038dfb8a3f09e713e9dff12c1/ipython_autotime-0.3.1-py2.py3-none-any.whl\n",
            "Requirement already satisfied: ipython in /usr/local/lib/python3.7/dist-packages (from ipython-autotime) (5.5.0)\n",
            "Requirement already satisfied: pexpect; sys_platform != \"win32\" in /usr/local/lib/python3.7/dist-packages (from ipython->ipython-autotime) (4.8.0)\n",
            "Requirement already satisfied: pickleshare in /usr/local/lib/python3.7/dist-packages (from ipython->ipython-autotime) (0.7.5)\n",
            "Requirement already satisfied: traitlets>=4.2 in /usr/local/lib/python3.7/dist-packages (from ipython->ipython-autotime) (5.0.5)\n",
            "Requirement already satisfied: prompt-toolkit<2.0.0,>=1.0.4 in /usr/local/lib/python3.7/dist-packages (from ipython->ipython-autotime) (1.0.18)\n",
            "Requirement already satisfied: simplegeneric>0.8 in /usr/local/lib/python3.7/dist-packages (from ipython->ipython-autotime) (0.8.1)\n",
            "Requirement already satisfied: decorator in /usr/local/lib/python3.7/dist-packages (from ipython->ipython-autotime) (4.4.2)\n",
            "Requirement already satisfied: setuptools>=18.5 in /usr/local/lib/python3.7/dist-packages (from ipython->ipython-autotime) (57.0.0)\n",
            "Requirement already satisfied: pygments in /usr/local/lib/python3.7/dist-packages (from ipython->ipython-autotime) (2.6.1)\n",
            "Requirement already satisfied: ptyprocess>=0.5 in /usr/local/lib/python3.7/dist-packages (from pexpect; sys_platform != \"win32\"->ipython->ipython-autotime) (0.7.0)\n",
            "Requirement already satisfied: ipython-genutils in /usr/local/lib/python3.7/dist-packages (from traitlets>=4.2->ipython->ipython-autotime) (0.2.0)\n",
            "Requirement already satisfied: wcwidth in /usr/local/lib/python3.7/dist-packages (from prompt-toolkit<2.0.0,>=1.0.4->ipython->ipython-autotime) (0.2.5)\n",
            "Requirement already satisfied: six>=1.9.0 in /usr/local/lib/python3.7/dist-packages (from prompt-toolkit<2.0.0,>=1.0.4->ipython->ipython-autotime) (1.15.0)\n",
            "Installing collected packages: ipython-autotime\n",
            "Successfully installed ipython-autotime-0.3.1\n",
            "time: 2.96 ms (started: 2021-06-17 14:16:29 +00:00)\n"
          ],
          "name": "stdout"
        }
      ]
    },
    {
      "cell_type": "code",
      "metadata": {
        "id": "OkmDqHc5_5j_",
        "colab": {
          "base_uri": "https://localhost:8080/"
        },
        "outputId": "a891916d-f47d-410e-b556-6b2357e52561"
      },
      "source": [
        "!pip install bing-image-downloader"
      ],
      "execution_count": null,
      "outputs": [
        {
          "output_type": "stream",
          "text": [
            "Collecting bing-image-downloader\n",
            "  Downloading https://files.pythonhosted.org/packages/2c/f9/e827c690d0df1ec2f2f27cf0fb3d1f944c5c56253f8d3750ccaff051b3d3/bing_image_downloader-1.1.0-py3-none-any.whl\n",
            "Installing collected packages: bing-image-downloader\n",
            "Successfully installed bing-image-downloader-1.1.0\n",
            "time: 3.34 s (started: 2021-06-17 14:16:29 +00:00)\n"
          ],
          "name": "stdout"
        }
      ]
    },
    {
      "cell_type": "code",
      "metadata": {
        "id": "-J3kzdSrHist",
        "colab": {
          "base_uri": "https://localhost:8080/"
        },
        "outputId": "9cfa75c1-42e3-43ec-ae11-6abd635ce6da"
      },
      "source": [
        "!mkdir Pictures"
      ],
      "execution_count": null,
      "outputs": [
        {
          "output_type": "stream",
          "text": [
            "time: 118 ms (started: 2021-06-17 14:16:33 +00:00)\n"
          ],
          "name": "stdout"
        }
      ]
    },
    {
      "cell_type": "code",
      "metadata": {
        "id": "lncoqbOpWjgO",
        "colab": {
          "base_uri": "https://localhost:8080/"
        },
        "outputId": "2f3742f5-a348-4ea1-a573-5c4a4566f1c5"
      },
      "source": [
        "from bing_image_downloader import downloader\n",
        "downloader.download(\"Birthday Cakes\", limit = 25, output_dir ='images', adult_filter_off = True)"
      ],
      "execution_count": null,
      "outputs": [
        {
          "output_type": "stream",
          "text": [
            "[%] Downloading Images to /content/images/Birthday Cakes\n",
            "\n",
            "\n",
            "[!!]Indexing page: 1\n",
            "\n",
            "[%] Indexed 25 Images on Page 1.\n",
            "\n",
            "===============================================\n",
            "\n",
            "[%] Downloading Image #1 from https://i.pinimg.com/originals/4e/19/a7/4e19a75b8936180c735ec02de514d22a.jpg\n",
            "[%] File Downloaded !\n",
            "\n",
            "[%] Downloading Image #2 from https://i.pinimg.com/originals/c6/15/1a/c6151aed8c7b6c3816b37bb370d92ffc.jpg\n",
            "[%] File Downloaded !\n",
            "\n",
            "[%] Downloading Image #3 from https://i.pinimg.com/originals/63/b3/e9/63b3e9e8c0cc3b14277a6e0abc842afa.jpg\n",
            "[%] File Downloaded !\n",
            "\n",
            "[%] Downloading Image #4 from https://live.staticflickr.com/4138/4805875494_de16f21169_b.jpg\n",
            "[%] File Downloaded !\n",
            "\n",
            "[%] Downloading Image #5 from http://www.dirtylaundrykitchen.com/wp-content/uploads/2013/04/true-birthday-cake-marble-with-chocolate-buttercream.jpg\n",
            "[%] File Downloaded !\n",
            "\n",
            "[%] Downloading Image #6 from https://i.pinimg.com/originals/5f/4a/fd/5f4afd2c6c607476984738207fef79e4.jpg\n",
            "[%] File Downloaded !\n",
            "\n",
            "[%] Downloading Image #7 from https://pbs.twimg.com/media/DTWxKKVU0AA44gY.jpg:large\n",
            "[%] File Downloaded !\n",
            "\n",
            "[%] Downloading Image #8 from https://i.pinimg.com/736x/3c/7c/28/3c7c285abd6fe19933d9053406e84df2--halloween-drinks-halloween-cake.jpg\n",
            "[%] File Downloaded !\n",
            "\n",
            "[%] Downloading Image #9 from https://i.pinimg.com/originals/fa/ee/ae/faeeae2ae976080e1cac001d47c919a6.jpg\n",
            "[%] File Downloaded !\n",
            "\n",
            "[%] Downloading Image #10 from https://i.pinimg.com/originals/3c/dd/48/3cdd4866a84fd42f61f4c0026bc7c2c0.jpg\n",
            "[%] File Downloaded !\n",
            "\n",
            "[%] Downloading Image #11 from https://i.pinimg.com/originals/8b/1a/1f/8b1a1f46ccc1926515718a8ac363cdb6.jpg\n",
            "[%] File Downloaded !\n",
            "\n",
            "[%] Downloading Image #12 from https://www.cakesbyrobin.co.uk/assets/Jasmine-and-Alladin-cake-e1576237635876.jpg\n",
            "[%] File Downloaded !\n",
            "\n",
            "[%] Downloading Image #13 from https://i.pinimg.com/736x/2f/f6/db/2ff6db135788c92469b05f22b8fa21d5.jpg\n",
            "[%] File Downloaded !\n",
            "\n",
            "[%] Downloading Image #14 from https://i.pinimg.com/originals/12/b0/2d/12b02d8a1f5d1e534db3ad9885c4a352.jpg\n",
            "[%] File Downloaded !\n",
            "\n",
            "[%] Downloading Image #15 from https://i.pinimg.com/originals/f2/a3/65/f2a365a7dde9b590cb7ae2f1b3e66dfa.jpg\n",
            "[%] File Downloaded !\n",
            "\n",
            "[%] Downloading Image #16 from https://i.pinimg.com/originals/35/78/cf/3578cf40a0643d866d003194fe7d7fd0.jpg\n",
            "[%] File Downloaded !\n",
            "\n",
            "[%] Downloading Image #17 from http://www.alloccasionscakes.co.uk/wp-content/uploads/1541515596true.JPG\n",
            "[%] File Downloaded !\n",
            "\n",
            "[%] Downloading Image #18 from https://i.pinimg.com/originals/d4/0b/0c/d40b0c678150ad6fa354d35c4fcc3a76.jpg\n",
            "[%] File Downloaded !\n",
            "\n",
            "[%] Downloading Image #19 from http://cakeinacupny.com/wp-content/uploads/2013/01/True-Religion-0077-2-640x800.jpg\n",
            "[%] File Downloaded !\n",
            "\n",
            "[%] Downloading Image #20 from https://i.pinimg.com/originals/1f/cc/95/1fcc95addcac615d007e15e69c4873fe.jpg\n",
            "[%] File Downloaded !\n",
            "\n",
            "[%] Downloading Image #21 from https://i.pinimg.com/originals/12/48/28/1248285556d61560219fa17f4be42ce4.jpg\n",
            "[%] File Downloaded !\n",
            "\n",
            "[%] Downloading Image #22 from http://1.bp.blogspot.com/-DgDmeZTCUN8/ThqBsnNyblI/AAAAAAAAD8A/mTR2VL6zN50/s1600/172.jpg\n",
            "[%] File Downloaded !\n",
            "\n",
            "[%] Downloading Image #23 from https://s-media-cache-ak0.pinimg.com/originals/4b/4d/96/4b4d96c4e7f64e73131161c0d829c2a2.jpg\n",
            "[%] File Downloaded !\n",
            "\n",
            "[%] Downloading Image #24 from https://2.bp.blogspot.com/-TV2UzoUFt2U/ThqBtIvN9vI/AAAAAAAAD8I/I8eGo8LNvdg/s1600/171.jpg\n",
            "[%] File Downloaded !\n",
            "\n",
            "[%] Downloading Image #25 from https://i.pinimg.com/originals/84/c2/dd/84c2dd01637bc229cd81bd3310c14648.jpg\n",
            "[%] File Downloaded !\n",
            "\n",
            "\n",
            "\n",
            "[%] Done. Downloaded 25 images.\n",
            "===============================================\n",
            "\n",
            "Please show your support here\n",
            "https://www.buymeacoffee.com/gurugaurav\n",
            "\n",
            "===============================================\n",
            "\n",
            "time: 5.44 s (started: 2021-06-17 14:16:33 +00:00)\n"
          ],
          "name": "stdout"
        }
      ]
    },
    {
      "cell_type": "code",
      "metadata": {
        "id": "be-IHYtwZDc0",
        "colab": {
          "base_uri": "https://localhost:8080/"
        },
        "outputId": "f36ab4ef-37f9-4667-9569-589fcfd32ea8"
      },
      "source": [
        "downloader.download(\"Beautiful Houses\", limit = 25, output_dir ='images', adult_filter_off = True)"
      ],
      "execution_count": null,
      "outputs": [
        {
          "output_type": "stream",
          "text": [
            "[%] Downloading Images to /content/images/Beautiful Houses\n",
            "\n",
            "\n",
            "[!!]Indexing page: 1\n",
            "\n",
            "[%] Indexed 25 Images on Page 1.\n",
            "\n",
            "===============================================\n",
            "\n",
            "[%] Downloading Image #1 from https://i.pinimg.com/originals/37/65/de/3765debd6f194d05d9cd401d64256ba2.jpg\n",
            "[%] File Downloaded !\n",
            "\n",
            "[%] Downloading Image #2 from https://i.pinimg.com/originals/d9/45/5a/d9455a0cf29c8ee742d4bd1310630035.jpg\n",
            "[%] File Downloaded !\n",
            "\n",
            "[%] Downloading Image #3 from https://i.pinimg.com/originals/61/85/5d/61855db77365acacdb178126d03aa816.jpg\n",
            "[%] File Downloaded !\n",
            "\n",
            "[%] Downloading Image #4 from https://i.pinimg.com/originals/74/42/90/74429079d8b6a0fa432e04e947976209.jpg\n",
            "[%] File Downloaded !\n",
            "\n",
            "[%] Downloading Image #5 from https://i.pinimg.com/originals/ba/08/ad/ba08ada36edeb3d10dc36963c062f2e8.jpg\n",
            "[%] File Downloaded !\n",
            "\n",
            "[%] Downloading Image #6 from https://i.pinimg.com/originals/15/7c/ef/157cefd2b803aff7538a0d127b67be82.jpg\n",
            "[%] File Downloaded !\n",
            "\n",
            "[%] Downloading Image #7 from https://i.pinimg.com/originals/ce/fd/b6/cefdb64fce1dfe263ae202886d137265.jpg\n",
            "[%] File Downloaded !\n",
            "\n",
            "[%] Downloading Image #8 from https://i.pinimg.com/originals/85/3a/fd/853afd86081734019956a324a79fb804.jpg\n",
            "[%] File Downloaded !\n",
            "\n",
            "[%] Downloading Image #9 from https://i.pinimg.com/originals/65/01/9d/65019dbb6ce90d8c1bb6f93fc724f964.jpg\n",
            "[%] File Downloaded !\n",
            "\n",
            "[%] Downloading Image #10 from https://i.pinimg.com/originals/78/bc/74/78bc7405c34f961ce59be36c065a167c.jpg\n",
            "[%] File Downloaded !\n",
            "\n",
            "[%] Downloading Image #11 from https://i.pinimg.com/originals/f5/09/dd/f509dd7487fc11454d4df093d8132db7.jpg\n",
            "[%] File Downloaded !\n",
            "\n",
            "[%] Downloading Image #12 from https://lh5.ggpht.com/-KWGjhnn9G0E/UmY2v4areAI/AAAAAAACC38/3e_rMA_zgoQ/image_thumb%25255B28%25255D.png?imgmax=800\n",
            "[%] File Downloaded !\n",
            "\n",
            "[%] Downloading Image #13 from https://i.pinimg.com/originals/9c/9e/2f/9c9e2f3f51a5bd0f28855249295f1132.jpg\n",
            "[%] File Downloaded !\n",
            "\n",
            "[%] Downloading Image #14 from https://i.pinimg.com/originals/b9/1d/2e/b91d2e464ca9925d312faf12b98ddbed.jpg\n",
            "[%] File Downloaded !\n",
            "\n",
            "[%] Downloading Image #15 from https://i.pinimg.com/originals/e6/02/b5/e602b5795aa38d56f18d9fa0d230ae47.jpg\n",
            "[%] File Downloaded !\n",
            "\n",
            "[%] Downloading Image #16 from https://i.pinimg.com/originals/a5/b4/27/a5b427429717ba3c8b5b594a22c7ac8f.jpg\n",
            "[%] File Downloaded !\n",
            "\n",
            "[%] Downloading Image #17 from https://i.pinimg.com/originals/e6/f3/8f/e6f38f38b59c21b857f2468032025d3d.jpg\n",
            "[%] File Downloaded !\n",
            "\n",
            "[%] Downloading Image #18 from https://i.pinimg.com/originals/e9/13/02/e91302436443eced38ac63dacd7fb8fb.jpg\n",
            "[%] File Downloaded !\n",
            "\n",
            "[%] Downloading Image #19 from https://a0.muscache.com/im/pictures/bb7117fc-302e-4438-a2dc-1f5bfa6a6634.jpg?im_w=720\n",
            "[%] File Downloaded !\n",
            "\n",
            "[%] Downloading Image #20 from https://www.truehomesusa.com/images/site/homepage/slide-03.jpg\n",
            "[%] File Downloaded !\n",
            "\n",
            "[%] Downloading Image #21 from https://i.pinimg.com/originals/5a/6c/a1/5a6ca149764845187dc3c5e995a741d8.jpg\n",
            "[%] File Downloaded !\n",
            "\n",
            "[%] Downloading Image #22 from https://i.pinimg.com/736x/ad/b6/09/adb60917abaaca2fae234234225c571d.jpg\n",
            "[%] File Downloaded !\n",
            "\n",
            "[%] Downloading Image #23 from https://i.pinimg.com/736x/a7/d3/b9/a7d3b9631636024225d515c20287c7d4.jpg\n",
            "[%] File Downloaded !\n",
            "\n",
            "[%] Downloading Image #24 from https://i.pinimg.com/originals/82/de/d3/82ded39e467ff475d36205d680ade008.jpg\n",
            "[%] File Downloaded !\n",
            "\n",
            "[%] Downloading Image #25 from https://d3rp5jatom3eyn.cloudfront.net/assets/products/images/b5e7e66dda00c98f3fee0a3d196f09c2.JPG\n",
            "[%] File Downloaded !\n",
            "\n",
            "\n",
            "\n",
            "[%] Done. Downloaded 25 images.\n",
            "===============================================\n",
            "\n",
            "Please show your support here\n",
            "https://www.buymeacoffee.com/gurugaurav\n",
            "\n",
            "===============================================\n",
            "\n",
            "time: 2.53 s (started: 2021-06-17 14:16:38 +00:00)\n"
          ],
          "name": "stdout"
        }
      ]
    },
    {
      "cell_type": "code",
      "metadata": {
        "id": "0-ax8nh0aixn",
        "colab": {
          "base_uri": "https://localhost:8080/"
        },
        "outputId": "fa33dd5e-a4bd-4b2a-bd87-1a5c295d9543"
      },
      "source": [
        "import os\n",
        "import matplotlib.pyplot as plt\n",
        "import numpy as np\n",
        "from skimage.io import imread\n",
        "from skimage.transform import resize\n",
        "\n",
        "target = []\n",
        "images = []\n",
        "flat_data = []\n",
        "\n",
        "DataDir = '/content/images'\n",
        "CATEGORIES = ['Beautiful Houses', 'Birthday Cakes']\n",
        "\n",
        "for category in CATEGORIES:\n",
        "  class_num = CATEGORIES.index(category)\n",
        "  path = os.path.join(DataDir, category)\n",
        "  for img in os.listdir(path):\n",
        "    img_array = imread(os.path.join(path,img))\n",
        "    img_resized = resize(img_array,(150,150,3))\n",
        "    flat_data.append(img_resized.flatten())\n",
        "    images.append(img_resized)\n",
        "    target.append(class_num)\n",
        "\n",
        "flat_data = np.array(flat_data)\n",
        "target = np.array(target)\n",
        "images = np.array(images)"
      ],
      "execution_count": null,
      "outputs": [
        {
          "output_type": "stream",
          "text": [
            "time: 41.6 s (started: 2021-06-17 14:16:41 +00:00)\n"
          ],
          "name": "stdout"
        }
      ]
    },
    {
      "cell_type": "code",
      "metadata": {
        "id": "5TrruU9AzG4L",
        "colab": {
          "base_uri": "https://localhost:8080/"
        },
        "outputId": "e779799e-03e1-49ec-9c06-352a6aa9f058"
      },
      "source": [
        "from sklearn.model_selection import train_test_split\n",
        "x_train,x_test,y_train,y_test = train_test_split(flat_data, target, test_size = 0.3, random_state = 109)"
      ],
      "execution_count": null,
      "outputs": [
        {
          "output_type": "stream",
          "text": [
            "time: 249 ms (started: 2021-06-17 14:17:22 +00:00)\n"
          ],
          "name": "stdout"
        }
      ]
    },
    {
      "cell_type": "code",
      "metadata": {
        "id": "fJWOuUO50cbX",
        "colab": {
          "base_uri": "https://localhost:8080/"
        },
        "outputId": "39d4ee2a-b476-40b8-cdc5-1f6b0db3be97"
      },
      "source": [
        "from sklearn.model_selection import GridSearchCV\n",
        "from sklearn import svm\n",
        "param_grid =[\n",
        "             {'C':[1,10,100,1000], 'kernel': ['linear']},\n",
        "             {'C':[1,10,100,1000],'gamma':[0.001,0.0001],'kernel': ['rbf']},\n",
        "             ]\n",
        "\n",
        "svc = svm.SVC(probability = True)\n",
        "clf = GridSearchCV(svc, param_grid)\n",
        "clf.fit(x_train, y_train)\n",
        "\n"
      ],
      "execution_count": null,
      "outputs": [
        {
          "output_type": "execute_result",
          "data": {
            "text/plain": [
              "GridSearchCV(cv=None, error_score=nan,\n",
              "             estimator=SVC(C=1.0, break_ties=False, cache_size=200,\n",
              "                           class_weight=None, coef0=0.0,\n",
              "                           decision_function_shape='ovr', degree=3,\n",
              "                           gamma='scale', kernel='rbf', max_iter=-1,\n",
              "                           probability=True, random_state=None, shrinking=True,\n",
              "                           tol=0.001, verbose=False),\n",
              "             iid='deprecated', n_jobs=None,\n",
              "             param_grid=[{'C': [1, 10, 100, 1000], 'kernel': ['linear']},\n",
              "                         {'C': [1, 10, 100, 1000], 'gamma': [0.001, 0.0001],\n",
              "                          'kernel': ['rbf']}],\n",
              "             pre_dispatch='2*n_jobs', refit=True, return_train_score=False,\n",
              "             scoring=None, verbose=0)"
            ]
          },
          "metadata": {
            "tags": []
          },
          "execution_count": 8
        },
        {
          "output_type": "stream",
          "text": [
            "time: 31.1 s (started: 2021-06-17 14:17:23 +00:00)\n"
          ],
          "name": "stdout"
        }
      ]
    },
    {
      "cell_type": "code",
      "metadata": {
        "id": "yf6qu4HzMwVt",
        "colab": {
          "base_uri": "https://localhost:8080/"
        },
        "outputId": "ad96dff3-df1c-461a-a82b-773e1c121d12"
      },
      "source": [
        "y_pred = clf.predict(x_test)\n",
        "y_pred"
      ],
      "execution_count": null,
      "outputs": [
        {
          "output_type": "execute_result",
          "data": {
            "text/plain": [
              "array([0, 1, 0, 1, 1, 0, 1, 1, 0, 0, 0, 0, 1, 0, 1])"
            ]
          },
          "metadata": {
            "tags": []
          },
          "execution_count": 9
        },
        {
          "output_type": "stream",
          "text": [
            "time: 77.7 ms (started: 2021-06-17 14:17:54 +00:00)\n"
          ],
          "name": "stdout"
        }
      ]
    },
    {
      "cell_type": "code",
      "metadata": {
        "id": "ELPiYTdhNGZe",
        "colab": {
          "base_uri": "https://localhost:8080/"
        },
        "outputId": "6cedf755-efc7-492c-8b94-21e2d9171a62"
      },
      "source": [
        "from sklearn.metrics import accuracy_score, confusion_matrix"
      ],
      "execution_count": null,
      "outputs": [
        {
          "output_type": "stream",
          "text": [
            "time: 1.8 ms (started: 2021-06-17 14:17:54 +00:00)\n"
          ],
          "name": "stdout"
        }
      ]
    },
    {
      "cell_type": "code",
      "metadata": {
        "id": "zVcdvTy_NXZl",
        "colab": {
          "base_uri": "https://localhost:8080/"
        },
        "outputId": "125b4f7f-720c-4338-df86-685d23f7330b"
      },
      "source": [
        "accuracy_score(y_pred,y_test)"
      ],
      "execution_count": null,
      "outputs": [
        {
          "output_type": "execute_result",
          "data": {
            "text/plain": [
              "0.8666666666666667"
            ]
          },
          "metadata": {
            "tags": []
          },
          "execution_count": 11
        },
        {
          "output_type": "stream",
          "text": [
            "time: 6.91 ms (started: 2021-06-17 14:17:54 +00:00)\n"
          ],
          "name": "stdout"
        }
      ]
    },
    {
      "cell_type": "code",
      "metadata": {
        "id": "JBf1dJnGNl_R",
        "colab": {
          "base_uri": "https://localhost:8080/"
        },
        "outputId": "ebbb3f21-8096-46b9-e0c2-765c59d36bbd"
      },
      "source": [
        "confusion_matrix(y_pred, y_test)"
      ],
      "execution_count": null,
      "outputs": [
        {
          "output_type": "execute_result",
          "data": {
            "text/plain": [
              "array([[6, 2],\n",
              "       [0, 7]])"
            ]
          },
          "metadata": {
            "tags": []
          },
          "execution_count": 12
        },
        {
          "output_type": "stream",
          "text": [
            "time: 12.4 ms (started: 2021-06-17 14:17:54 +00:00)\n"
          ],
          "name": "stdout"
        }
      ]
    },
    {
      "cell_type": "code",
      "metadata": {
        "id": "Q5rhTc2LOKcY",
        "colab": {
          "base_uri": "https://localhost:8080/"
        },
        "outputId": "7e4be59b-c268-4ef8-9811-6726c9059d94"
      },
      "source": [
        "import pickle\n",
        "pickle.dump(clf, open('img_model.p','wb'))"
      ],
      "execution_count": null,
      "outputs": [
        {
          "output_type": "stream",
          "text": [
            "time: 48.5 ms (started: 2021-06-17 14:17:54 +00:00)\n"
          ],
          "name": "stdout"
        }
      ]
    },
    {
      "cell_type": "code",
      "metadata": {
        "id": "s51cwTZYOxsS",
        "colab": {
          "base_uri": "https://localhost:8080/"
        },
        "outputId": "6211fa06-8ece-475b-a969-157294015d43"
      },
      "source": [
        "model = pickle.load(open('img_model.p','rb'))"
      ],
      "execution_count": null,
      "outputs": [
        {
          "output_type": "stream",
          "text": [
            "time: 16 ms (started: 2021-06-17 14:17:54 +00:00)\n"
          ],
          "name": "stdout"
        }
      ]
    },
    {
      "cell_type": "code",
      "metadata": {
        "id": "k_9SL4IjPD1Y",
        "colab": {
          "base_uri": "https://localhost:8080/",
          "height": 342
        },
        "outputId": "bac15e56-8336-4585-ca98-a25e71488875"
      },
      "source": [
        "flat_data =[]\n",
        "url = input('Enter any URL')\n",
        "img = imread(url)\n",
        "img_resized = resize(img,(150,150,3))\n",
        "flat_data.append(img_resized.flatten())\n",
        "flat_data = np.array(flat_data)\n",
        "print(img.shape)\n",
        "plt.imshow(img_resized)\n",
        "y_out = model.predict(flat_data)\n",
        "y_out = CATEGORIES[y_out[0]]\n",
        "print(f'Predicted output:{y_out}')\n",
        "\n"
      ],
      "execution_count": null,
      "outputs": [
        {
          "output_type": "stream",
          "text": [
            "Enter any URLhttps://i2.wp.com/bakewithshivesh.com/wp-content/uploads/2019/04/Birthday-Cake.jpg?resize=980%2C1470&ssl=1.jpg\n",
            "(1470, 980, 3)\n",
            "Predicted output:Birthday Cakes\n"
          ],
          "name": "stdout"
        },
        {
          "output_type": "display_data",
          "data": {
            "image/png": "[encoded data removed]",
            "text/plain": [
              "<Figure size 432x288 with 1 Axes>"
            ]
          },
          "metadata": {
            "tags": [],
            "needs_background": "light"
          }
        },
        {
          "output_type": "stream",
          "text": [
            "time: 6.66 s (started: 2021-06-17 14:19:18 +00:00)\n"
          ],
          "name": "stdout"
        }
      ]
    }
  ]
}